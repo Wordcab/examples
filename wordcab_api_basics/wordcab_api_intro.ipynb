{
  "nbformat": 4,
  "nbformat_minor": 0,
  "metadata": {
    "colab": {
      "name": "wordcab_api_intro.ipynb",
      "provenance": [],
      "collapsed_sections": []
    },
    "kernelspec": {
      "name": "python3",
      "display_name": "Python 3"
    },
    "language_info": {
      "name": "python"
    }
  },
  "cells": [
    {
      "cell_type": "code",
      "metadata": {
        "id": "3MaE5c7VECq6"
      },
      "source": [
        "import requests\n",
        "\n",
        "apikey = \"YOUR_API_KEY\""
      ],
      "execution_count": 35,
      "outputs": []
    },
    {
      "cell_type": "code",
      "metadata": {
        "id": "inR9FicyEFEX"
      },
      "source": [
        "# RETRIEVE ACCOUNT DETAILS\n",
        "\n",
        "endpoint = \"https://wordcab.com/api/me\"\n",
        "\n",
        "params = {\n",
        "    \"apikey\": apikey\n",
        "}\n",
        "\n",
        "r = requests.get(endpoint, params=params)\n",
        "r.json()"
      ],
      "execution_count": 46,
      "outputs": []
    },
    {
      "cell_type": "code",
      "metadata": {
        "id": "AugWIG3qEGDP"
      },
      "source": [
        "# UPLOAD AUDIO\n",
        "\n",
        "file_name = \"sales_call.mp3\" # <= Change this\n",
        "file_path = f\"/content/{file_name}\"\n",
        "endpoint = \"https://wordcab.com/api/upload/\" # <= Slash required\n",
        "\n",
        "files = {\n",
        "    \"audio_file\": open(file_path, \"rb\")\n",
        "}\n",
        "params = {\n",
        "    \"apikey\": apikey,\n",
        "    \"source\": \"audio\",\n",
        "    \"only_api\": \"false\" # <= set to \"true\" by default\n",
        "}\n",
        "\n",
        "r = requests.post(endpoint, files=files, params=params)\n",
        "job_name = r.json()[\"job_name\"]\n",
        "\n",
        "print(job_name)"
      ],
      "execution_count": 45,
      "outputs": []
    },
    {
      "cell_type": "code",
      "metadata": {
        "id": "zXQq1uhJEHQ6"
      },
      "source": [
        "# POLL JOB STATUS\n",
        "\n",
        "endpoint = \"https://wordcab.com/api/upload/\"\n",
        "\n",
        "params = {\n",
        "    \"apikey\": apikey,\n",
        "    \"job_name\": job_name, \n",
        "}\n",
        "\n",
        "r = requests.get(endpoint, params=params) # <= When status is \"Complete\", the dictionary will auto-populate with the summary\n",
        "r.json()"
      ],
      "execution_count": 44,
      "outputs": []
    }
  ]
}